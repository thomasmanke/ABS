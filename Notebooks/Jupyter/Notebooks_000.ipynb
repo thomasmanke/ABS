{
 "cells": [
  {
   "cell_type": "markdown",
   "metadata": {
    "id": "NwyfOaC0iBWm",
    "tags": []
   },
   "source": [
    "# Jupyter Notebooks: Basics\n",
    "\n"
   ]
  },
  {
   "cell_type": "markdown",
   "metadata": {
    "id": "KjzdWOGDMchw"
   },
   "source": [
    "Jupyter Notebooks contain **text cells** (annotations in markdown format) and **code cells** (containing executable Python code).\n",
    "\n",
    "The current cell is a text cell. The cell below is a code cell.\n",
    "\n",
    "In order to run (=execute) a code cell you can move the cursor to the cell of interest and either \n",
    "\n",
    "*   press the play button in the tool bar or \n",
    "*   press Shift-Enter simultaneously. \n",
    "\n",
    "\n",
    "\n"
   ]
  },
  {
   "cell_type": "markdown",
   "metadata": {
    "id": "EhxObJJPIXRu"
   },
   "source": [
    "Try to execute the two cells below:"
   ]
  },
  {
   "cell_type": "code",
   "execution_count": 1,
   "metadata": {
    "colab": {
     "base_uri": "https://localhost:8080/"
    },
    "executionInfo": {
     "elapsed": 245,
     "status": "ok",
     "timestamp": 1651569012310,
     "user": {
      "displayName": "Thomas Manke",
      "userId": "17591636328965298454"
     },
     "user_tz": -120
    },
    "id": "hYTB87cGiBWr",
    "outputId": "bfaf3072-0e12-4065-fa86-b5f962e693f4",
    "tags": []
   },
   "outputs": [
    {
     "name": "stdout",
     "output_type": "stream",
     "text": [
      "Hello world\n"
     ]
    }
   ],
   "source": [
    "# simple python.\n",
    "print('Hello world')"
   ]
  },
  {
   "cell_type": "code",
   "execution_count": 2,
   "metadata": {
    "colab": {
     "base_uri": "https://localhost:8080/"
    },
    "executionInfo": {
     "elapsed": 308,
     "status": "ok",
     "timestamp": 1652787144787,
     "user": {
      "displayName": "Thomas Manke",
      "userId": "17591636328965298454"
     },
     "user_tz": -120
    },
    "id": "Ctf_KgK0IQt5",
    "outputId": "a566ed00-fdf3-4338-a176-2846d9509477"
   },
   "outputs": [
    {
     "name": "stdout",
     "output_type": "stream",
     "text": [
      "Notebooks_000.ipynb\n"
     ]
    }
   ],
   "source": [
    "# simple linux. Notice the exclamation mark\n",
    "!ls"
   ]
  },
  {
   "cell_type": "markdown",
   "metadata": {
    "id": "LN0l64LxP1jm"
   },
   "source": [
    "## Controlled execution\n",
    "\n",
    "The %%script ... line prevents execution when the cell (or the whole notebook) is run."
   ]
  },
  {
   "cell_type": "markdown",
   "metadata": {
    "id": "c6mYgiB8GbC3"
   },
   "source": [
    "## Notice:\n",
    "\n",
    "- **Code Cell Number**: Executed code cell will be marked by an increasing number.\n",
    "- **Run All**: It is possible to run the whole notebook at once (similar to scripts). In this teaching context this may give a false impression of training success. In this course, many cells still need editing for training purposes, and the default way will be to execute cells one by one.\n",
    "\n"
   ]
  },
  {
   "cell_type": "code",
   "execution_count": null,
   "metadata": {
    "colab": {
     "base_uri": "https://localhost:8080/"
    },
    "executionInfo": {
     "elapsed": 285,
     "status": "ok",
     "timestamp": 1652787283847,
     "user": {
      "displayName": "Thomas Manke",
      "userId": "17591636328965298454"
     },
     "user_tz": -120
    },
    "id": "Iz7rRSKPMqzk",
    "outputId": "cb91bcec-5d13-4d1b-ba30-a54462e05185"
   },
   "outputs": [
    {
     "name": "stdout",
     "output_type": "stream",
     "text": [
      "Do not execute\n"
     ]
    }
   ],
   "source": [
    "%%script echo Do not execute\n",
    "print('Hello world')"
   ]
  },
  {
   "cell_type": "markdown",
   "metadata": {
    "id": "6oj9ubsBNDOg"
   },
   "source": [
    "**Task (1 min):**: Execute the cell above. Then comment out the first line and execute it again."
   ]
  },
  {
   "cell_type": "markdown",
   "metadata": {
    "id": "5BqwqW1WQB4z"
   },
   "source": [
    "### Beware\n",
    "\n",
    "The temporal order of cell execution is important! Random order may cause unintended problems (Limits of reproducibility)."
   ]
  },
  {
   "cell_type": "markdown",
   "metadata": {
    "id": "DEVBvLGFQ7zx"
   },
   "source": [
    "## Time-to-play (10 min)\n",
    "\n",
    "Explore jupyterlab and this notebook. \n",
    "\n",
    "Feel free to create a new notebook or add content below: text cells and code cells."
   ]
  }
 ],
 "metadata": {
  "colab": {
   "collapsed_sections": [],
   "name": "Notebooks_000.ipynb",
   "provenance": []
  },
  "kernelspec": {
   "display_name": "Python 3 (ipykernel)",
   "language": "python",
   "name": "python3"
  },
  "language_info": {
   "codemirror_mode": {
    "name": "ipython",
    "version": 3
   },
   "file_extension": ".py",
   "mimetype": "text/x-python",
   "name": "python",
   "nbconvert_exporter": "python",
   "pygments_lexer": "ipython3",
   "version": "3.7.12"
  }
 },
 "nbformat": 4,
 "nbformat_minor": 4
}
