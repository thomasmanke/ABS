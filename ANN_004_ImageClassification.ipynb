{
  "cells": [
    {
      "cell_type": "markdown",
      "metadata": {
        "id": "view-in-github",
        "colab_type": "text"
      },
      "source": [
        "<a href=\"https://colab.research.google.com/github/thomasmanke/ABS/blob/main/ANN_004_ImageClassification.ipynb\" target=\"_parent\"><img src=\"https://colab.research.google.com/assets/colab-badge.svg\" alt=\"Open In Colab\"/></a>"
      ]
    },
    {
      "cell_type": "markdown",
      "metadata": {
        "id": "9eJVzsw3ovB_"
      },
      "source": [
        "# Image Classification\n",
        "\n"
      ]
    },
    {
      "cell_type": "markdown",
      "metadata": {
        "id": "fDLvMoIhtYRr"
      },
      "source": [
        "**Goal:** Given many images and their labels, learn a neural network to predict the label of a new image (c.f human learning)."
      ]
    },
    {
      "cell_type": "markdown",
      "metadata": {
        "id": "HsGfslxvhWMF"
      },
      "source": [
        "**Repetitions:**\n",
        "- Define Model & Optimization Strategy\n",
        "- Fit Model\n",
        "- Monitor Fitting\n",
        "- Evaluate Training \n",
        "\n",
        "**New items:**\n",
        "\n",
        "- Data Splitting: Train & Test\n",
        "- How to handle images: data structure\n"
      ]
    },
    {
      "cell_type": "markdown",
      "metadata": {
        "id": "_5H1VxaENAex"
      },
      "source": [
        "# Get Libraries"
      ]
    },
    {
      "cell_type": "code",
      "execution_count": 1,
      "metadata": {
        "colab": {
          "base_uri": "https://localhost:8080/"
        },
        "id": "Q40zhW1fNDoZ",
        "outputId": "2f4ec2ec-f6ef-4933-c341-8191c33e19b9"
      },
      "outputs": [
        {
          "output_type": "stream",
          "name": "stdout",
          "text": [
            "tf-version:  2.9.2\n"
          ]
        }
      ],
      "source": [
        "import numpy as np\n",
        "import tensorflow as tf\n",
        "import matplotlib.pyplot as plt\n",
        "from sklearn.metrics import confusion_matrix\n",
        "print('tf-version: ', tf.__version__)\n",
        "\n",
        "# my plot function for confusion matrix\n",
        "def plot_cm(mat):\n",
        "  classes = np.arange(cm.shape[0])\n",
        "  plt.imshow(mat, cmap=plt.cm.Blues)\n",
        "  for (j,i),label in np.ndenumerate(mat):\n",
        "    plt.text(i,j,np.round(label,2),ha='center',va='center')\n",
        "\n",
        "  plt.colorbar()\n",
        "  plt.title('Confusion Matrix')\n",
        "  plt.xlabel('True label')\n",
        "  plt.ylabel('Pred label')\n",
        "  plt.xticks(classes)\n",
        "  plt.yticks(classes)\n",
        "  plt.show()"
      ]
    },
    {
      "cell_type": "markdown",
      "metadata": {
        "id": "gp6YGTDxLSTC"
      },
      "source": [
        "## Get Data"
      ]
    },
    {
      "cell_type": "markdown",
      "metadata": {
        "id": "MfdKyjkzNM1l"
      },
      "source": [
        "Many famous datasets can be found here:  https://www.tensorflow.org/datasets/catalog/overview\n",
        "\n",
        "They can be accessed easily using keras functionality.\n",
        "\n",
        "In the following we will focus on squared images of handwritten digits. They have also been annotated (labeled)."
      ]
    },
    {
      "cell_type": "code",
      "execution_count": 2,
      "metadata": {
        "id": "XBLF1bnLLUxX",
        "colab": {
          "base_uri": "https://localhost:8080/"
        },
        "outputId": "e7eebe24-1fbd-473d-f4f7-0098520e6b14"
      },
      "outputs": [
        {
          "output_type": "stream",
          "name": "stdout",
          "text": [
            "Downloading data from https://storage.googleapis.com/tensorflow/tf-keras-datasets/mnist.npz\n",
            "11490434/11490434 [==============================] - 0s 0us/step\n"
          ]
        }
      ],
      "source": [
        "mnist = tf.keras.datasets.mnist\n",
        "(X_train, y_train), (X_test, y_test) = mnist.load_data()"
      ]
    },
    {
      "cell_type": "markdown",
      "metadata": {
        "id": "Vl38XgCSTqtV"
      },
      "source": [
        "### Test and Training Sets"
      ]
    },
    {
      "cell_type": "markdown",
      "metadata": {
        "id": "niN-HRCe1W0k"
      },
      "source": [
        "For models with many parameters there is a real danger of **overfitting**, i.e. learning the specifics of one set of samples rather than generalizable rules.\n",
        "\n",
        "For performance evaluation it is crucial to retain an independent (but representative) **test data set** that it is never used for fitting.  Using keras functionality, we loaded both training data and test data at the same time. If your data does not come split, you may have to do one of the following:"
      ]
    },
    {
      "cell_type": "code",
      "execution_count": null,
      "metadata": {
        "colab": {
          "base_uri": "https://localhost:8080/"
        },
        "id": "SC51MsE22s8y",
        "outputId": "41040636-6a91-422d-80cf-ea3c94220428"
      },
      "outputs": [
        {
          "output_type": "stream",
          "name": "stdout",
          "text": [
            "Suggestions for general (X,y). Do not run here\n"
          ]
        }
      ],
      "source": [
        "%%script echo Suggestions for general (X,y). Do not run here\n",
        "fract = 0.80\n",
        "\n",
        "idx = numpy.random.permutation(X.shape[0]) # shuffle indices\n",
        "s = round(X.shape[0]*fract)                # split point\n",
        "train_idx, test_idx = idx[:s], idx[s:]\n",
        "X_train, X_test = X[train_idx,:], X[test_idx,:]\n",
        "# similar for labels\n",
        "\n",
        "# sklearn\n",
        "from sklearn.model_selection import train_test_split\n",
        "X_train, X_test, y_train, y_test = train_test_split(X, y, train_size = fract)\n",
        "\n",
        "# keep in mind that the test data set should be representative\n",
        "# See here for stratified partitioning\n",
        "https://scikit-learn.org/stable/modules/generated/sklearn.model_selection.StratifiedKFold.html"
      ]
    },
    {
      "cell_type": "markdown",
      "metadata": {
        "id": "4OzeFrperTvk"
      },
      "source": [
        "## Task (15 min): Data Inspection."
      ]
    },
    {
      "cell_type": "markdown",
      "metadata": {
        "id": "sQwoO6heEtdf"
      },
      "source": [
        "- Inspect the types and shapes of the newly defined objects: X_train, y_train, ...\n",
        "- Have a look at the data (array) of the 42nd training image and describe what you see\n",
        "- What is the maximal number?\n",
        "- Plot the image using plt.imshow\n",
        "- What is the label of this image?"
      ]
    },
    {
      "cell_type": "code",
      "execution_count": null,
      "metadata": {
        "colab": {
          "base_uri": "https://localhost:8080/"
        },
        "id": "U-l4iwhcEn_R",
        "outputId": "c1069821-878f-4b93-b2a6-4ba93906cba7"
      },
      "outputs": [
        {
          "output_type": "stream",
          "name": "stdout",
          "text": [
            "edit here\n"
          ]
        }
      ],
      "source": [
        "%%script echo edit here\n",
        "..."
      ]
    },
    {
      "cell_type": "markdown",
      "metadata": {
        "id": "RevDcT1gtv6D"
      },
      "source": [
        "## Data Normalization"
      ]
    },
    {
      "cell_type": "markdown",
      "metadata": {
        "id": "TQZ4lerVLSj5"
      },
      "source": [
        "**Alert:** Usually many more steps are involved in preparing data for analysis:\n",
        "reading, reformating, filtering, shuffeling, transformation, normalization. This can take up a significant amount of time. \n",
        "\n",
        "Here we rely on a highly standardize data set and will only use normalization for illustration. It is important to do so consistently for both training and test data."
      ]
    },
    {
      "cell_type": "code",
      "execution_count": 3,
      "metadata": {
        "id": "hHIX2rOEty47"
      },
      "outputs": [],
      "source": [
        "# Run this code cell only once !!!\n",
        "X_train = X_train / 255.0\n",
        "X_test  = X_test  / 255.0"
      ]
    },
    {
      "cell_type": "markdown",
      "metadata": {
        "id": "jItEAEZvq2XI"
      },
      "source": [
        "## Flattening"
      ]
    },
    {
      "cell_type": "markdown",
      "metadata": {
        "id": "DF4unoFdQTi8"
      },
      "source": [
        "A common procedure to process images is to first \"flatten\" them to a vector. This step will ultimately be done inside the neural network.\n",
        "The line below just illustrates the behaviour for a specific image:"
      ]
    },
    {
      "cell_type": "code",
      "execution_count": 4,
      "metadata": {
        "colab": {
          "base_uri": "https://localhost:8080/"
        },
        "id": "OvmRU-rXPvWO",
        "outputId": "53584700-2935-4a99-e6a0-4bf3fb87766d"
      },
      "outputs": [
        {
          "output_type": "stream",
          "name": "stdout",
          "text": [
            "original:   (28, 28)\n",
            "flattened:  (784,)\n"
          ]
        }
      ],
      "source": [
        "print('original:  ', X_train[42,:].shape)\n",
        "print('flattened: ', X_train[42,:].flatten().shape)"
      ]
    },
    {
      "cell_type": "markdown",
      "metadata": {
        "id": "hhcdiYS6yiC6"
      },
      "source": [
        "## Dimensional Reduction"
      ]
    },
    {
      "cell_type": "code",
      "execution_count": 5,
      "metadata": {
        "colab": {
          "base_uri": "https://localhost:8080/",
          "height": 298
        },
        "id": "OQUPfZQwEd23",
        "outputId": "153a2e81-0b69-43b5-ec0a-bcd05a676bf9"
      },
      "outputs": [
        {
          "output_type": "stream",
          "name": "stdout",
          "text": [
            "Scores:  (500, 2)\n"
          ]
        },
        {
          "output_type": "display_data",
          "data": {
            "text/plain": [
              "<Figure size 432x288 with 2 Axes>"
            ],
            "image/png": "[encoded data removed]"
          },
          "metadata": {
            "needs_background": "light"
          }
        }
      ],
      "source": [
        "from sklearn.decomposition import PCA\n",
        "\n",
        "ns = X_train.shape[0] # total number of samples\n",
        "nr = 500              # random number of subsamples\n",
        "idx=np.random.choice(ns, nr, replace=False)\n",
        "X_sub = X_train[idx,:].reshape(nr,-1)  # flatten each of the nr images\n",
        "X_pca = PCA(n_components = 2).fit_transform(X_sub)\n",
        "print('Scores: ',X_pca.shape)\n",
        "\n",
        "cm = plt.get_cmap('tab10')\n",
        "plt.scatter( X_pca[:,0], X_pca[:,1] , c=y_train[idx], cmap=cm)\n",
        "plt.title('PCA')\n",
        "plt.colorbar()\n",
        "plt.show()"
      ]
    },
    {
      "cell_type": "markdown",
      "metadata": {
        "id": "Jzwa-fBVzvVG"
      },
      "source": [
        "## Define and Compile Neural Network Model\n",
        "\n",
        "New Elements\n",
        "- Relu Activation: Rectified Linear Unit (search for simple non-linearity)\n",
        "- Adam Optimizer: don't get stuck in sharp local minima $\\to$ adaptive learning rates (100k citations !)"
      ]
    },
    {
      "cell_type": "code",
      "execution_count": 6,
      "metadata": {
        "colab": {
          "base_uri": "https://localhost:8080/"
        },
        "id": "tSL6sIocq6AF",
        "outputId": "d9d6dfdf-053f-46d6-af0a-f976547726b2"
      },
      "outputs": [
        {
          "output_type": "stream",
          "name": "stdout",
          "text": [
            "X_train.shape:      (60000, 28, 28)\n",
            "input_shape:        (28, 28)\n",
            "number of classes:  10\n",
            "Model: \"mnist_model_1\"\n",
            "_________________________________________________________________\n",
            " Layer (type)                Output Shape              Param #   \n",
            "=================================================================\n",
            " flatten (Flatten)           (None, 784)               0         \n",
            "                                                                 \n",
            " 1st_layer (Dense)           (None, 128)               100480    \n",
            "                                                                 \n",
            " softmax_layer (Dense)       (None, 10)                1290      \n",
            "                                                                 \n",
            "=================================================================\n",
            "Total params: 101,770\n",
            "Trainable params: 101,770\n",
            "Non-trainable params: 0\n",
            "_________________________________________________________________\n"
          ]
        }
      ],
      "source": [
        "nc = np.unique(y_train).size     # number of classes / labels in training set\n",
        "l_name = 'sparse_categorical_crossentropy'\n",
        "a_name = 'sparse_categorical_accuracy'\n",
        "\n",
        "input_shape = X_train.shape[1:]\n",
        "\n",
        "print('X_train.shape:     ', X_train.shape)\n",
        "print('input_shape:       ', input_shape)\n",
        "print('number of classes: ', nc)\n",
        "\n",
        "mod1 = tf.keras.Sequential( name = 'mnist_model_1')\n",
        "mod1.add( tf.keras.layers.Flatten(input_shape=input_shape) )  # flattens input to vector \n",
        "mod1.add( tf.keras.layers.Dense(128, activation='relu',name='1st_layer') )  # add layer with 128 nodes + relu\n",
        "mod1.add( tf.keras.layers.Dense(nc, activation='softmax', name='softmax_layer') )\n",
        "\n",
        "mod1.compile(optimizer='adam', loss=l_name, metrics=a_name)\n",
        "\n",
        "mod1.summary()"
      ]
    },
    {
      "cell_type": "markdown",
      "metadata": {
        "id": "vWvZf5r9B52I"
      },
      "source": [
        "# Group Tasks (40 min + 10min):"
      ]
    },
    {
      "cell_type": "markdown",
      "metadata": {
        "id": "lh-MWh0dqW7_"
      },
      "source": [
        "Now you are ready to go. Repeat the usual steps\n",
        "\n",
        "- Fitting\n",
        "- Tracking of fit performance (Loss, Accuracy)\n",
        "- Model Evaluation: now you have test data $\\ne$ training data\n",
        "- Predictions: infer labels (np.argmax)\n",
        "- Iterations and improvements (some ideas)\n",
        "  - increase the number of epochs\n",
        "  - increase the number of neurons in dense layer\n",
        "  - add additional layer\n",
        "  - introduce a \"validation_split\" during fitting. Note that this adds additional information to your history that  can be used to control for overfitting.\n",
        "- Reality check: scan your own handwritten digit and submit it to your learned model. Does it work?\n",
        "\n",
        "Summary: Report your summary and preferred solution back to the whole class\n",
        "\n",
        "Tip: If you are on colab.research.google, you might want to activatate the \"GPU hardware accelerator\" under \"Change runtime type\""
      ]
    },
    {
      "cell_type": "markdown",
      "metadata": {
        "id": "IdcP7vgP0IbE"
      },
      "source": [
        "## Fit Model"
      ]
    },
    {
      "cell_type": "code",
      "execution_count": 7,
      "metadata": {
        "id": "t0fKInjCrGFp"
      },
      "outputs": [],
      "source": [
        "fh1 = mod1.fit(X_train, y_train, epochs=25, verbose=0, validation_split=0.1)"
      ]
    },
    {
      "cell_type": "markdown",
      "source": [
        "## Save Model and History"
      ],
      "metadata": {
        "id": "61mrvTTHk9ln"
      }
    },
    {
      "cell_type": "markdown",
      "source": [
        "We might want to save the trained model and the metrics history for latter use."
      ],
      "metadata": {
        "id": "6HV4E5rI-okI"
      }
    },
    {
      "cell_type": "code",
      "source": [
        "model_fn   = 'minst_model.h5'   # specifying .h5 generates one h5 file (rather than a directory)\n",
        "history_fn = 'minst_history.npy'\n",
        "\n",
        "hist = fh1.history   # dictionary in fh1 object\n",
        "mod1.save(model_fn)\n",
        "np.save(history_fn, hist)   "
      ],
      "metadata": {
        "id": "YgJmdcSKlC_t"
      },
      "execution_count": 8,
      "outputs": []
    },
    {
      "cell_type": "markdown",
      "source": [
        "## Loading Model and History"
      ],
      "metadata": {
        "id": "LYWwtrFayLgl"
      }
    },
    {
      "cell_type": "code",
      "source": [
        "%%script echo Run after new start\n",
        "model_fn   = 'minst_model.h5'\n",
        "history_fn = 'minst_history.npy'\n",
        "\n",
        "mod1 = tf.keras.models.load_model(model_fn)\n",
        "hist = np.load(history_fn,allow_pickle=True).item()"
      ],
      "metadata": {
        "id": "b8QDf8W1yP9L"
      },
      "execution_count": 17,
      "outputs": []
    },
    {
      "cell_type": "markdown",
      "metadata": {
        "id": "MqOxRqo7PMBm"
      },
      "source": [
        "## Evaluation"
      ]
    },
    {
      "cell_type": "code",
      "execution_count": 19,
      "metadata": {
        "colab": {
          "base_uri": "https://localhost:8080/",
          "height": 558
        },
        "id": "jyD0jBHGrQ7L",
        "outputId": "46cf19dd-1bbf-4274-8432-93c397c87620"
      },
      "outputs": [
        {
          "output_type": "stream",
          "name": "stdout",
          "text": [
            "313/313 [==============================] - 1s 2ms/step - loss: 0.1202 - sparse_categorical_accuracy: 0.9775\n"
          ]
        },
        {
          "output_type": "display_data",
          "data": {
            "text/plain": [
              "<Figure size 432x288 with 1 Axes>"
            ],
            "image/png": "[encoded data removed]"
          },
          "metadata": {
            "needs_background": "light"
          }
        },
        {
          "output_type": "display_data",
          "data": {
            "text/plain": [
              "<Figure size 432x288 with 1 Axes>"
            ],
            "image/png": "[encoded data removed]"
          },
          "metadata": {
            "needs_background": "light"
          }
        }
      ],
      "source": [
        "## Plotting history and test accuracy\n",
        "def plot_fit_history(hist, name='loss', test_score=0):\n",
        "  \"\"\"Plots history of metrics 'name'\n",
        "  The validation metrics will also be plotted if available as 'val_name' (Keras convention)\n",
        "  A test_score can be added to compare the evolution\"\"\"\n",
        "\n",
        "  if name not in hist:\n",
        "      print('plot_fit_history: {} is not a key in history !'.format(name))\n",
        "      return\n",
        "  val_name = 'val_' + name\n",
        "  plt.plot(hist[name],     label='train')\n",
        "\n",
        "  if val_name in hist:\n",
        "    # add validation if in data\n",
        "    plt.plot(hist[val_name], label='valid')\n",
        "  \n",
        "  plt.axhline(y=test_score, color='green', linestyle='-.',label = 'test')\n",
        "  plt.xlabel('Epoch')\n",
        "  plt.ylabel(name)\n",
        "  plt.legend(loc='upper left')\n",
        "  plt.show()\n",
        "\n",
        "test_loss, test_acc = mod1.evaluate(X_test, y_test)\n",
        "\n",
        "a_name='sparse_categorical_accuracy'\n",
        "plot_fit_history(hist, 'loss', test_loss)\n",
        "plot_fit_history(hist, a_name, test_acc)"
      ]
    },
    {
      "cell_type": "code",
      "source": [
        "mod1_pred = mod1.predict(X_test)           # probabilities    \n",
        "y_pred    = np.argmax(mod1_pred, axis=1)   # classes with max prob (= labels)\n",
        "cm=confusion_matrix(y_pred, y_test)\n",
        "plot_cm(cm)"
      ],
      "metadata": {
        "colab": {
          "base_uri": "https://localhost:8080/",
          "height": 312
        },
        "id": "j2kYgiA-UrCY",
        "outputId": "70135811-03d5-41f9-ae5d-55e505105b04"
      },
      "execution_count": 20,
      "outputs": [
        {
          "output_type": "stream",
          "name": "stdout",
          "text": [
            "313/313 [==============================] - 1s 2ms/step\n"
          ]
        },
        {
          "output_type": "display_data",
          "data": {
            "text/plain": [
              "<Figure size 432x288 with 2 Axes>"
            ],
            "image/png": "[encoded data removed]"
          },
          "metadata": {
            "needs_background": "light"
          }
        }
      ]
    },
    {
      "cell_type": "markdown",
      "metadata": {
        "id": "KO5FSSCWP13o"
      },
      "source": [
        "## Load own image"
      ]
    },
    {
      "cell_type": "code",
      "source": [
        "fn='figures/ANN_Digit3.jpg'  # point to proper path\n",
        "input_size=X_train.shape[1:]  "
      ],
      "metadata": {
        "id": "UdrkBh4M109G"
      },
      "execution_count": null,
      "outputs": []
    },
    {
      "cell_type": "markdown",
      "source": [
        "### Using keras"
      ],
      "metadata": {
        "id": "Kl9_W_JTsPuS"
      }
    },
    {
      "cell_type": "code",
      "execution_count": null,
      "metadata": {
        "id": "GVgfnpdUP3gR"
      },
      "outputs": [],
      "source": [
        "#%%script echo Make sure to set the proper image size (to match the model)\n",
        "from tensorflow.keras.preprocessing import image\n",
        "\n",
        "# load image \n",
        "# adjust to desired input_size (x,y) and convert RGB to grayscale (as MINST data)\n",
        "img = image.load_img(fn, target_size=input_size, color_mode=\"grayscale\")\n",
        "print('filename: ', fn, type(img), input_size)\n",
        "\n",
        "# convert PIL to numpy and reverse 0<->255 (--> MNIST convention)\n",
        "img = 255 - np.array(img)    # alternative: image.img_to_array(img)\n",
        "print('type, shape: ', type(img), img.shape)\n",
        "\n",
        "img = img / 255.  # Normalization (in line with MINST)\n",
        "\n",
        "plt.imshow(img, cmap='Greys')\n",
        "print('img.shape:', img.shape)"
      ]
    },
    {
      "cell_type": "markdown",
      "source": [
        "### Using plt and cv2"
      ],
      "metadata": {
        "id": "esqD4dN_1PEc"
      }
    },
    {
      "cell_type": "code",
      "source": [
        "import cv2\n",
        "img = plt.imread(fn)                                             # read\n",
        "img = cv2.resize(img, input_size, interpolation=cv2.INTER_AREA)  # resize\n",
        "\n",
        "img = np.mean(img,axis=2)   # RGB averaging\n",
        "img = 255 - img             # MINST convention\n",
        "img = img / 255             # Normalization\n",
        "\n",
        "plt.imshow(img, cmap='Greys')\n",
        "print('img.shape:', img.shape)"
      ],
      "metadata": {
        "id": "HtKRWYxk2S-U"
      },
      "execution_count": null,
      "outputs": []
    },
    {
      "cell_type": "markdown",
      "source": [
        "## Prediction"
      ],
      "metadata": {
        "id": "wosws-aR62XQ"
      }
    },
    {
      "cell_type": "code",
      "source": [
        "# remember to reshape single image to network expectation = set of images\n",
        "img = img[np.newaxis, ...]\n",
        "pred=mod1.predict(img)\n",
        "\n",
        "fig, ax = plt.subplots(1,2, figsize=(12,5))\n",
        "ax[0].imshow(img[0], cmap='Greys')\n",
        "ax[1].bar(range(10), pred[0])\n",
        "ax[1].set_xticks(range(10))\n",
        "ax[1].set_title(np.argmax(pred))\n",
        "plt.show()"
      ],
      "metadata": {
        "colab": {
          "base_uri": "https://localhost:8080/",
          "height": 336
        },
        "id": "1zqBQVf9u-92",
        "outputId": "51c07880-30d3-45fe-c302-9d4142529358"
      },
      "execution_count": null,
      "outputs": [
        {
          "output_type": "display_data",
          "data": {
            "text/plain": [
              "<Figure size 864x360 with 2 Axes>"
            ],
            "image/png": "[encoded data removed]"
          },
          "metadata": {
            "needs_background": "light"
          }
        }
      ]
    }
  ],
  "metadata": {
    "accelerator": "GPU",
    "colab": {
      "collapsed_sections": [],
      "provenance": [],
      "authorship_tag": "ABX9TyOWIRkIK/ABhTBy6actRsjn",
      "include_colab_link": true
    },
    "gpuClass": "standard",
    "kernelspec": {
      "display_name": "Python 3",
      "name": "python3"
    },
    "language_info": {
      "name": "python"
    }
  },
  "nbformat": 4,
  "nbformat_minor": 0
}